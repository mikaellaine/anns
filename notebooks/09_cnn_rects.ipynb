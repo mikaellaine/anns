{
 "cells": [
  {
   "cell_type": "markdown",
   "metadata": {},
   "source": [
    "Lets finally put the pieces together and build a classifier for images with ovals and rectangles."
   ]
  },
  {
   "cell_type": "code",
   "execution_count": null,
   "metadata": {},
   "outputs": [],
   "source": [
    "import shutil\n",
    "shutil.rmtree(\"examplemodel\")"
   ]
  },
  {
   "cell_type": "code",
   "execution_count": null,
   "metadata": {},
   "outputs": [],
   "source": [
    "import numpy as np\n",
    "import tensorflow as tf\n",
    "import matplotlib.pyplot as plt\n",
    "import os\n",
    "import cv2\n",
    "import sys, re\n",
    "\n",
    "W = 600\n",
    "H = 600\n",
    "D = 1\n",
    "\n",
    "input_images = []\n",
    "output_classes = []\n",
    "\n",
    "def loadImages(img_dir):\n",
    "    global input_images\n",
    "    global output_classes\n",
    "    global W\n",
    "    global H\n",
    "    input_images = []\n",
    "    output_classes = []\n",
    "    print(\"Loading images\")\n",
    "    for imgFilename in os.listdir(img_dir):\n",
    "        imgPath = os.path.join(img_dir, imgFilename)\n",
    "        if not imgPath.endswith(\".jpg\"):\n",
    "            continue\n",
    "        a = cv2.imread(imgPath,0)#1=color, 0=grayscale\n",
    "        if a is None:\n",
    "            continue\n",
    "        H, W = a.shape[:2]\n",
    "        if \"rect\" not in imgFilename:\n",
    "            input_images.append(a.flatten())\n",
    "            output_classes.append(0)\n",
    "        else:\n",
    "            input_images.append(a.flatten())\n",
    "            output_classes.append(1)\n",
    "    input_images  = np.asarray(input_images, dtype=np.float32)\n",
    "    output_classes = np.asarray(output_classes, dtype=np.int32)\n",
    "    print(str(output_classes))"
   ]
  },
  {
   "cell_type": "markdown",
   "metadata": {},
   "source": [
    "Model... add some layers like tf.layers.conv2d, tf.layers.max_pooling2d, tf.layers.dense"
   ]
  },
  {
   "cell_type": "markdown",
   "metadata": {},
   "source": [
    "#Example layer prototypes\n",
    "<br>conv    = tf.layers.conv2d(input_layer, filters=, kernel_size=, padding=\"same\", activation=tf.nn.relu)\n",
    "<br>flat    = tf.reshape(conv, [])\n",
    "<br>dense   = tf.layers.dense( flat, units= )\n"
   ]
  },
  {
   "cell_type": "code",
   "execution_count": null,
   "metadata": {},
   "outputs": [],
   "source": [
    "def model_function(features, labels, mode):\n",
    "  input_layer = tf.reshape(features[\"x\"], [-1, W, H, D])\n",
    "  ...\n",
    "  dropout = tf.layers.dropout(dense, rate=0.2, training=mode == tf.estimator.ModeKeys.TRAIN)\n",
    "  logits  = tf.layers.dense( dropout, units=2 )#boxes or no boxes\n",
    "\n",
    "  predictions = {\n",
    "    \"classes\": tf.argmax(input=logits, axis=1),\n",
    "    \"probabilities\": tf.nn.softmax(logits, name=\"softmax_tensor\")\n",
    "  }\n",
    "\n",
    "  if mode == tf.estimator.ModeKeys.PREDICT:\n",
    "    return tf.estimator.EstimatorSpec(mode=mode, predictions=predictions)\n",
    "  loss = tf.losses.sparse_softmax_cross_entropy( labels = labels, logits=logits )\n",
    "  tf.summary.scalar(\"loss\", loss)\n",
    "\n",
    "  if mode == tf.estimator.ModeKeys.TRAIN:\n",
    "      optimizer = tf.train.GradientDescentOptimizer(learning_rate=0.001)\n",
    "      #optimizer = tf.train.AdamOptimizer(learning_rate=0.001, epsilon=0.01)\n",
    "      gradients, variables = zip(*optimizer.compute_gradients(loss))\n",
    "      gradients, _ = tf.clip_by_global_norm(gradients, 1.0)\n",
    "      optimize = optimizer.apply_gradients(zip(gradients, variables), global_step=tf.train.get_global_step())\n",
    "      return tf.estimator.EstimatorSpec(mode=mode, loss=loss, train_op=optimize)\n",
    "\n",
    "  # Add evaluation metrics (for EVAL mode)\n",
    "  eval_metric_ops = {\n",
    "      \"accuracy\": tf.metrics.accuracy(labels=labels, predictions=predictions[\"classes\"])}\n",
    "  return tf.estimator.EstimatorSpec( mode=mode, loss=loss, eval_metric_ops=eval_metric_ops)"
   ]
  },
  {
   "cell_type": "markdown",
   "metadata": {},
   "source": [
    "Training.. load the training set and call train on the classifier (estimator)."
   ]
  },
  {
   "cell_type": "code",
   "execution_count": null,
   "metadata": {},
   "outputs": [],
   "source": [
    "loadImages(\"circs_n_rects_train/\")\n",
    "print(\"input data: \"+str(np.shape(input_images)))\n",
    "print(\"output data: \"+str(np.shape(output_classes)))\n",
    "estimator = tf.estimator.Estimator(model_fn=model_function, model_dir=\"examplemodel\")\n",
    "train_input_fn = tf.estimator.inputs.numpy_input_fn(\n",
    "    x={\"x\": input_images},\n",
    "    y=output_classes,\n",
    "    batch_size=10,\n",
    "    num_epochs=None,\n",
    "    shuffle=True)\n",
    "\n"
   ]
  },
  {
   "cell_type": "code",
   "execution_count": null,
   "metadata": {},
   "outputs": [],
   "source": [
    "estimator.train( input_fn=train_input_fn, steps=10000 )"
   ]
  },
  {
   "cell_type": "markdown",
   "metadata": {},
   "source": [
    "Now let's evaluate the trained model with evaluation data that the model has never seen. <p>Remember that the model might just learn the specific instances of rectangles/circles instead of learning the general shape. By introducing new data, we verify that has not happened."
   ]
  },
  {
   "cell_type": "code",
   "execution_count": null,
   "metadata": {},
   "outputs": [],
   "source": [
    "loadImages(\"circs_n_rects_eval/\")\n",
    "print(\"Evaluating train data\")\n",
    "print(\"input data: \"+str(np.shape(input_images)))\n",
    "eval_input_fn = tf.estimator.inputs.numpy_input_fn(\n",
    "  x={\"x\":input_images},\n",
    "  y=output_classes,\n",
    "  num_epochs=1,\n",
    "  shuffle=False)\n",
    "print(\"Image size: \"+str(W)+\", \"+str(H))"
   ]
  },
  {
   "cell_type": "code",
   "execution_count": null,
   "metadata": {
    "scrolled": true
   },
   "outputs": [],
   "source": [
    "eval_results = estimator.evaluate(input_fn=eval_input_fn)\n",
    "print(eval_results)"
   ]
  },
  {
   "cell_type": "code",
   "execution_count": null,
   "metadata": {},
   "outputs": [],
   "source": [
    "a = cv2.imread(\"circs_n_rects_eval/rect.jpg\",0)#1=color, 0=grayscale\n",
    "input_images  = np.asarray([a], dtype=np.float32)\n",
    "eval_input_fn = tf.estimator.inputs.numpy_input_fn(\n",
    "  x={\"x\":input_images},\n",
    "  num_epochs=1,\n",
    "  shuffle=False)\n",
    "pred_results = estimator.predict(input_fn=eval_input_fn)\n",
    "print(list(pred_results))"
   ]
  },
  {
   "cell_type": "markdown",
   "metadata": {},
   "source": [
    "If you're not happy with the results, try the following:\n",
    "<li>Add a pooling layer and another convolutional layer (capture features in another scale) \n",
    "<li>Add more filters\n",
    "<li>Make the batch size small"
   ]
  },
  {
   "cell_type": "code",
   "execution_count": null,
   "metadata": {},
   "outputs": [],
   "source": []
  }
 ],
 "metadata": {
  "kernelspec": {
   "display_name": "Python 3",
   "language": "python",
   "name": "python3"
  },
  "language_info": {
   "codemirror_mode": {
    "name": "ipython",
    "version": 3
   },
   "file_extension": ".py",
   "mimetype": "text/x-python",
   "name": "python",
   "nbconvert_exporter": "python",
   "pygments_lexer": "ipython3",
   "version": "3.6.4"
  }
 },
 "nbformat": 4,
 "nbformat_minor": 2
}
