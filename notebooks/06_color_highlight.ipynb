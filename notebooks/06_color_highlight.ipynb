{
 "cells": [
  {
   "cell_type": "markdown",
   "metadata": {},
   "source": [
    "In this example we will build a very simple model that recognizes the color red and highlights it from the input image."
   ]
  },
  {
   "cell_type": "code",
   "execution_count": null,
   "metadata": {},
   "outputs": [],
   "source": [
    "import shutil\n",
    "shutil.rmtree(\"examplemodel\")"
   ]
  },
  {
   "cell_type": "code",
   "execution_count": null,
   "metadata": {},
   "outputs": [],
   "source": [
    "from PIL import Image\n",
    "import numpy as np\n",
    "import tensorflow as tf\n",
    "import matplotlib.pyplot as plt\n",
    "import os\n",
    "import cv2\n",
    "import sys, re\n",
    "import glob\n",
    "import matplotlib.image as mpimg\n",
    "\n",
    "input_images = []\n",
    "output_images = []\n",
    "\n",
    "print(\"Loading images\")\n",
    "img_dir=\"color_image_pairs\"\n",
    "filelist = glob.glob(os.path.join(img_dir, '*.jpg'))\n",
    "for imgFilename in sorted(filelist):\n",
    "    if not imgFilename.endswith(\".jpg\"):\n",
    "        continue\n",
    "\n",
    "    a = mpimg.imread(imgFilename)\n",
    "    if a is None:\n",
    "        print(\"Unable to read image\"+imgFilename)\n",
    "        continue\n",
    "    H, W = a.shape[:2]\n",
    "    D = a.shape[2]\n",
    "    WH = int(W/2)\n",
    "    print(\"W/H\"+str(W)+\" / \"+str(H)+\"WH:\"+str(WH))\n",
    "    left = np.asarray(a[0:H, 0:WH])\n",
    "    righ = np.asarray(a[0:H, WH:W])\n",
    "    input_images.append(left)\n",
    "    output_images.append(righ)\n",
    "\n",
    "input_images  = np.asarray(input_images, dtype=np.float32)\n",
    "output_images = np.asarray(output_images, dtype=np.float32)\n",
    "\n",
    "print(\"Train data shape: \"+ str(np.shape(input_images))+ \" type=\", str(input_images.dtype))\n",
    "print(\"Labels shape: \"+ str(np.shape(output_images))+ \" type=\", str(output_images.dtype))\n",
    "\n",
    "#Another helper function\n",
    "def showImage(aImg, aW, aH):\n",
    "    image = aImg.astype(np.uint8)\n",
    "    im = Image.fromarray(np.roll(image, 1, axis=-1))\n",
    "    image = image.reshape((W,H,D))\n",
    "    img = Image.fromarray(image, 'RGB')\n",
    "    img.show()"
   ]
  },
  {
   "cell_type": "markdown",
   "metadata": {},
   "source": [
    "Complete the convolution layer declaration below:"
   ]
  },
  {
   "cell_type": "code",
   "execution_count": null,
   "metadata": {},
   "outputs": [],
   "source": [
    "def model_function(features, labels, mode):\n",
    "  input = features[\"x\"]\n",
    "  input_layer = tf.reshape(input, [-1, W, H, D])\n",
    "  conv = tf.layers.conv2d( inputs=, filters=, kernel_size=[, ], strides = , padding=\"same\")\n",
    "  pred_output = tf.reshape(conv, [-1, W, H, D]);\n",
    "\n",
    "  if mode == tf.estimator.ModeKeys.PREDICT:\n",
    "    return tf.estimator.EstimatorSpec(mode=mode, predictions=pred_output)\n",
    "\n",
    "  output = labels\n",
    "  outputGround = tf.reshape(output, [-1, W, H, D])\n",
    "  loss = tf.losses.absolute_difference( labels = outputGround, predictions=pred_output)\n",
    "  tf.summary.scalar(\"loss\", loss)\n",
    "  tf.summary.image('input', input_layer, max_outputs=4)\n",
    "  tf.summary.image('pred output', pred_output, max_outputs=4)\n",
    "  tf.summary.image('real output', outputGround, max_outputs=4)\n",
    "\n",
    "  if mode == tf.estimator.ModeKeys.TRAIN:\n",
    "      optimizer = tf.train.GradientDescentOptimizer(learning_rate=0.001)\n",
    "      train_op = optimizer.minimize(loss=loss, global_step=tf.train.get_global_step())\n",
    "      return tf.estimator.EstimatorSpec(mode=mode, loss=loss, train_op=train_op)\n",
    "\n",
    "  # Add evaluation metrics (for EVAL mode)\n",
    "  eval_metric_ops = {\n",
    "      \"accuracy\": tf.metrics.accuracy(labels=labels, predictions=logits)}\n",
    "  return tf.estimator.EstimatorSpec( mode=mode, loss=loss, eval_metric_ops=eval_metric_ops)"
   ]
  },
  {
   "cell_type": "code",
   "execution_count": null,
   "metadata": {},
   "outputs": [],
   "source": [
    "estimator = tf.estimator.Estimator(model_fn=model_function, model_dir=\"examplemodel\")\n",
    "train_input_fn = tf.estimator.inputs.numpy_input_fn(\n",
    "    x={\"x\": input_images},\n",
    "    y=output_images,\n",
    "    batch_size=6,\n",
    "    num_epochs=None,\n",
    "    shuffle=True)\n",
    "\n",
    "estimator.train( input_fn=train_input_fn, steps = 10000)\n",
    "print(str(estimator.get_variable_names()))"
   ]
  },
  {
   "cell_type": "code",
   "execution_count": null,
   "metadata": {},
   "outputs": [],
   "source": [
    "def loadImage( aPath ):\n",
    "    imgFilename = aPath\n",
    "    if not imgFilename.endswith(\".jpg\"):\n",
    "        print(\"ONLY JPEG FILES ACCEPTED\")\n",
    "    print(\"PATH: \"+imgFilename)\n",
    "    a = mpimg.imread(imgFilename)#1=color, 0=grayscale\n",
    "    if a is None:\n",
    "        print(\"Unable to read image\"+imgFilename)\n",
    "        print(\"image is null\")\n",
    "    return np.asarray(a, dtype=np.float32)"
   ]
  },
  {
   "cell_type": "code",
   "execution_count": null,
   "metadata": {},
   "outputs": [],
   "source": [
    "print(\"Predict\")\n",
    "img = loadImage( \"test_red.jpg\" )\n",
    "H, W = img.shape[:2]\n",
    "D = img.shape[2]\n",
    "HW = int(W/2)\n",
    "print(\"Loaded image of shape \"+str(img.shape))\n",
    "test_data = img.reshape(1,W,H,D)\n",
    "test_data = np.asarray(test_data, dtype=np.float32)\n",
    "eval_input_fn = tf.estimator.inputs.numpy_input_fn( x={\"x\":test_data}, num_epochs=1, shuffle=False )\n",
    "eval_results = estimator.predict(input_fn=eval_input_fn)\n",
    "fin = eval_results.__next__()\n",
    "print(\"result size: \"+str(img.shape))\n",
    "outData = fin.astype('uint8', casting='unsafe')\n",
    "img = Image.fromarray(outData, 'RGB')\n",
    "img.show()"
   ]
  },
  {
   "cell_type": "code",
   "execution_count": null,
   "metadata": {},
   "outputs": [],
   "source": [
    "print(str(estimator.get_variable_names()))\n",
    "print(\"WEIGHTS 0\"+str(estimator.get_variable_value(\"conv2d/kernel\")))\n",
    "print(\"BIAS    0\"+str(estimator.get_variable_value(\"conv2d/bias\")))"
   ]
  },
  {
   "cell_type": "code",
   "execution_count": null,
   "metadata": {},
   "outputs": [],
   "source": []
  },
  {
   "cell_type": "code",
   "execution_count": null,
   "metadata": {},
   "outputs": [],
   "source": []
  }
 ],
 "metadata": {
  "kernelspec": {
   "display_name": "Python 3",
   "language": "python",
   "name": "python3"
  },
  "language_info": {
   "codemirror_mode": {
    "name": "ipython",
    "version": 3
   },
   "file_extension": ".py",
   "mimetype": "text/x-python",
   "name": "python",
   "nbconvert_exporter": "python",
   "pygments_lexer": "ipython3",
   "version": "3.6.4"
  }
 },
 "nbformat": 4,
 "nbformat_minor": 2
}
