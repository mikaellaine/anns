{
 "cells": [
  {
   "cell_type": "code",
   "execution_count": null,
   "metadata": {},
   "outputs": [],
   "source": [
    "import shutil\n",
    "shutil.rmtree(\"examplemodel\")"
   ]
  },
  {
   "cell_type": "code",
   "execution_count": null,
   "metadata": {},
   "outputs": [],
   "source": [
    "from PIL import Image\n",
    "import numpy as np\n",
    "import tensorflow as tf\n",
    "import matplotlib.pyplot as plt\n",
    "import os\n",
    "import cv2\n",
    "import sys, re\n",
    "import glob"
   ]
  },
  {
   "cell_type": "code",
   "execution_count": null,
   "metadata": {},
   "outputs": [],
   "source": [
    "input_images = []\n",
    "output_images = []\n",
    "img_dir = str( \"edges/\" )\n",
    "\n",
    "kernel_h = 3\n",
    "kernel_w = 3\n",
    "D = 1\n",
    "\n",
    "def loadImages():\n",
    "    global W\n",
    "    global H\n",
    "    global WH\n",
    "    global input_images\n",
    "    global output_images\n",
    "    ins = []\n",
    "    outs = []\n",
    "\n",
    "    print(\"Loading images\")\n",
    "    filelist = glob.glob(os.path.join(img_dir, '*.jpg'))\n",
    "    for imgFilename in sorted(filelist):\n",
    "        if not imgFilename.endswith(\".jpg\"):\n",
    "            continue\n",
    "        a = cv2.imread(imgFilename,0)#1=color, 0=grayscale\n",
    "        H, W = a.shape[:2]\n",
    "        WH = int(W/2)\n",
    "        left = np.asarray(a[0:H, 0:WH])\n",
    "        righ = np.asarray(a[0:H, WH:W])\n",
    "        ins.append(left)\n",
    "        outs.append(righ)\n",
    "        \n",
    "    input_images  = np.asarray(ins, dtype=np.float32)\n",
    "    output_images = np.asarray(outs, dtype=np.float32)"
   ]
  },
  {
   "cell_type": "markdown",
   "metadata": {},
   "source": [
    "In this example, we're going to have a neural network learn to build the edge map.\n",
    "<br>The training set consists of images with the original image on the left and the edge map on the right (see below)\n",
    "<br>The edge map has been generated with a 3x3 vertical Sobel operator, which looks as follows:"
   ]
  },
  {
   "cell_type": "code",
   "execution_count": null,
   "metadata": {},
   "outputs": [],
   "source": [
    "sobel = np.asarray([[1, 0, -1],[2,0,-2],[1,0,-1]])\n",
    "print(str(sobel))"
   ]
  },
  {
   "cell_type": "code",
   "execution_count": null,
   "metadata": {},
   "outputs": [],
   "source": [
    "\n",
    "one = np.asarray(cv2.imread(img_dir+\"/train1.jpg\",0), dtype=np.float32)\n",
    "plt.imshow(one, cmap='gray')"
   ]
  },
  {
   "cell_type": "code",
   "execution_count": null,
   "metadata": {},
   "outputs": [],
   "source": [
    "two = np.asarray(cv2.imread(img_dir+\"/train2.jpg\",0), dtype=np.float32)\n",
    "plt.imshow(two, cmap='gray')"
   ]
  },
  {
   "cell_type": "code",
   "execution_count": null,
   "metadata": {},
   "outputs": [],
   "source": [
    "def model_function(features, labels, mode):\n",
    "  input = features[\"x\"]\n",
    "  input_layer = tf.reshape(input, [-1, H, H, D])\n",
    "  conv = tf.layers.conv2d( inputs=input_layer, filters=D, kernel_size=[kernel_h, kernel_w], strides = 1, padding=\"same\", activation=tf.nn.relu, use_bias=False )\n",
    "  pred_output = tf.reshape(conv, [-1, H, H, D]);\n",
    "\n",
    "  if mode == tf.estimator.ModeKeys.PREDICT:\n",
    "    return tf.estimator.EstimatorSpec(mode=mode, predictions=pred_output)\n",
    "\n",
    "  outputGround = tf.reshape(labels, [-1, H, H, D])\n",
    "  loss = tf.losses.mean_squared_error( labels = outputGround, predictions=pred_output)\n",
    "  tf.summary.scalar(\"loss\", loss)\n",
    "  tf.summary.image('input', input_layer, max_outputs=2)\n",
    "  tf.summary.image('output', pred_output, max_outputs=2)\n",
    "  tf.summary.image('real output', outputGround, max_outputs=2)\n",
    "\n",
    "  if mode == tf.estimator.ModeKeys.TRAIN:\n",
    "      optimizer = tf.train.AdamOptimizer(learning_rate=0.001, epsilon=0.01)\n",
    "      gradients, variables = zip(*optimizer.compute_gradients(loss))\n",
    "      gradients, _ = tf.clip_by_global_norm(gradients, 1.0)\n",
    "      optimize = optimizer.apply_gradients(zip(gradients, variables), global_step=tf.train.get_global_step())\n",
    "      return tf.estimator.EstimatorSpec(mode=mode, loss=loss, train_op=optimize)\n",
    "\n",
    "  # Add evaluation metrics (for EVAL mode)\n",
    "  eval_metric_ops = {\n",
    "      \"accuracy\": tf.metrics.accuracy(labels=labels, predictions=label)}\n",
    "  return tf.estimator.EstimatorSpec( mode=mode, loss=loss, eval_metric_ops=eval_metric_ops)"
   ]
  },
  {
   "cell_type": "code",
   "execution_count": null,
   "metadata": {},
   "outputs": [],
   "source": [
    "estimator = tf.estimator.Estimator(model_fn=model_function, model_dir=\"examplemodel\")\n",
    "\n",
    "loadImages()\n",
    "print(\"Train data shape: \"+ str(np.shape(input_images))+ \" type=\", str(input_images.dtype))\n",
    "print(\"Labels shape: \"+ str(np.shape(output_images))+ \" type=\", str(output_images.dtype))\n",
    "train_input_fn = tf.estimator.inputs.numpy_input_fn(\n",
    "    x={\"x\": input_images},\n",
    "    y=output_images,\n",
    "    batch_size=2,\n",
    "    num_epochs=None,\n",
    "    shuffle=False)"
   ]
  },
  {
   "cell_type": "markdown",
   "metadata": {},
   "source": [
    "Lets look at the kernels as we train... after a single pass, all the variables are initialized and we can print the kernel."
   ]
  },
  {
   "cell_type": "code",
   "execution_count": null,
   "metadata": {},
   "outputs": [],
   "source": [
    "estimator.train( input_fn=train_input_fn, steps = 1)\n",
    "kernel_one = estimator.get_variable_value(\"conv2d/kernel\").reshape([kernel_h, kernel_w])\n",
    "plt.imshow(kernel_one, cmap='gray')"
   ]
  },
  {
   "cell_type": "code",
   "execution_count": null,
   "metadata": {},
   "outputs": [],
   "source": [
    "estimator.train( input_fn=train_input_fn, steps = 3000)"
   ]
  },
  {
   "cell_type": "code",
   "execution_count": null,
   "metadata": {},
   "outputs": [],
   "source": [
    "kernel_two = estimator.get_variable_value(\"conv2d/kernel\").reshape([kernel_h, kernel_w])\n",
    "diff = kernel_two - kernel_one\n",
    "f, axarr = plt.subplots(1,3,figsize=(10,10))\n",
    "axarr[0].imshow(kernel_one, cmap='gray')\n",
    "axarr[0].set_title('init')\n",
    "axarr[1].imshow(diff, cmap='gray')\n",
    "axarr[1].set_title('delta')\n",
    "axarr[2].imshow(kernel_two, cmap='gray')\n",
    "axarr[2].set_title('final')"
   ]
  },
  {
   "cell_type": "markdown",
   "metadata": {},
   "source": [
    "The final kernel starts to look very much like the original sobel operator. Success!<p>Let's look at the results."
   ]
  },
  {
   "cell_type": "code",
   "execution_count": null,
   "metadata": {},
   "outputs": [],
   "source": [
    "img = np.asarray(cv2.imread(img_dir+\"/train2.jpg\",0), dtype=np.float32)\n",
    "print(str(img.shape))\n",
    "H, W = img.shape[:2]\n",
    "edges = img[0:H,H:]\n",
    "img = img[0:H,0:H]\n",
    "print(\"Loaded \"+str(img.shape))\n",
    "test_data = img.reshape(1,H,H,D)\n",
    "test_data = np.asarray(test_data[:,:], dtype=np.float32)\n",
    "eval_input_fn = tf.estimator.inputs.numpy_input_fn( x={\"x\":test_data}, num_epochs=1, shuffle=False )\n",
    "eval_results = estimator.predict(input_fn=eval_input_fn)\n",
    "fin = eval_results.__next__()\n",
    "out = fin.astype('uint8', casting='unsafe')\n",
    "out = out.reshape((200,200))\n",
    "\n",
    "f, axarr = plt.subplots(1,3, figsize=(20,20))\n",
    "axarr[0].imshow(img, cmap='gray')\n",
    "axarr[0].set_title('input')\n",
    "axarr[1].imshow(out, cmap='gray')\n",
    "axarr[1].set_title('output')\n",
    "axarr[2].imshow(edges, cmap='gray')\n",
    "axarr[2].set_title('edges')"
   ]
  },
  {
   "cell_type": "code",
   "execution_count": null,
   "metadata": {},
   "outputs": [],
   "source": []
  },
  {
   "cell_type": "code",
   "execution_count": null,
   "metadata": {},
   "outputs": [],
   "source": []
  }
 ],
 "metadata": {
  "kernelspec": {
   "display_name": "Python 3",
   "language": "python",
   "name": "python3"
  },
  "language_info": {
   "codemirror_mode": {
    "name": "ipython",
    "version": 3
   },
   "file_extension": ".py",
   "mimetype": "text/x-python",
   "name": "python",
   "nbconvert_exporter": "python",
   "pygments_lexer": "ipython3",
   "version": "3.6.4"
  }
 },
 "nbformat": 4,
 "nbformat_minor": 2
}
